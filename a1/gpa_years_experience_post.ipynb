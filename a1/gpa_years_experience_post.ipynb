{
 "cells": [
  {
   "attachments": {},
   "cell_type": "markdown",
   "metadata": {},
   "source": [
    "## Linear Regression from scratch\n",
    "\n",
    "The goal of this exercise is to implement the linear regression algorithm. \n",
    "The dataset is about predicting salary given gpa and years of experience. \n",
    "The steps to implement are as follows.  \n",
    "\n",
    "1.\tRead the data from a file (gpa_year_experience.csv)\n",
    "2.\tScale the attributes\n",
    "3.\tCompute the error at each iteration and save the error values in vector\n",
    "4.\tPlot the error vector as a curve in the end\n",
    "5.\tPredict a new instance.\n",
    "6.  Compare with SGDRegressor\n",
    "7.  Create polynomial features and predict new instance   "
   ]
  },
  {
   "cell_type": "code",
   "execution_count": 44,
   "metadata": {},
   "outputs": [],
   "source": [
    "# import libraries\n",
    "import pandas as pd\n",
    "import numpy as np\n",
    "from sklearn import *\n",
    "import matplotlib.pyplot as plt\n",
    "\n",
    "# ignore warnings\n",
    "import warnings\n",
    "warnings.filterwarnings('ignore')"
   ]
  },
  {
   "cell_type": "code",
   "execution_count": 60,
   "metadata": {},
   "outputs": [
    {
     "data": {
      "text/html": [
       "<div>\n",
       "<style scoped>\n",
       "    .dataframe tbody tr th:only-of-type {\n",
       "        vertical-align: middle;\n",
       "    }\n",
       "\n",
       "    .dataframe tbody tr th {\n",
       "        vertical-align: top;\n",
       "    }\n",
       "\n",
       "    .dataframe thead th {\n",
       "        text-align: right;\n",
       "    }\n",
       "</style>\n",
       "<table border=\"1\" class=\"dataframe\">\n",
       "  <thead>\n",
       "    <tr style=\"text-align: right;\">\n",
       "      <th></th>\n",
       "      <th>gpa</th>\n",
       "      <th>years_of_experience</th>\n",
       "      <th>salary</th>\n",
       "    </tr>\n",
       "  </thead>\n",
       "  <tbody>\n",
       "    <tr>\n",
       "      <th>0</th>\n",
       "      <td>70</td>\n",
       "      <td>1.0</td>\n",
       "      <td>50</td>\n",
       "    </tr>\n",
       "    <tr>\n",
       "      <th>1</th>\n",
       "      <td>80</td>\n",
       "      <td>2.0</td>\n",
       "      <td>55</td>\n",
       "    </tr>\n",
       "    <tr>\n",
       "      <th>2</th>\n",
       "      <td>65</td>\n",
       "      <td>2.0</td>\n",
       "      <td>45</td>\n",
       "    </tr>\n",
       "    <tr>\n",
       "      <th>3</th>\n",
       "      <td>70</td>\n",
       "      <td>2.5</td>\n",
       "      <td>60</td>\n",
       "    </tr>\n",
       "    <tr>\n",
       "      <th>4</th>\n",
       "      <td>65</td>\n",
       "      <td>2.7</td>\n",
       "      <td>58</td>\n",
       "    </tr>\n",
       "  </tbody>\n",
       "</table>\n",
       "</div>"
      ],
      "text/plain": [
       "   gpa  years_of_experience  salary\n",
       "0   70                  1.0      50\n",
       "1   80                  2.0      55\n",
       "2   65                  2.0      45\n",
       "3   70                  2.5      60\n",
       "4   65                  2.7      58"
      ]
     },
     "execution_count": 60,
     "metadata": {},
     "output_type": "execute_result"
    }
   ],
   "source": [
    "# load data and show first 5 rows\n",
    "data = pd.read_csv('https://raw.githubusercontent.com/thomouvic/SENG474/main/data/gpa_years_experience.csv')\n",
    "data.head()"
   ]
  },
  {
   "cell_type": "code",
   "execution_count": 61,
   "metadata": {},
   "outputs": [],
   "source": [
    "# prepare data, split columns into X and y\n",
    "# X should be a numpy array of shape (m, n), use .values to convert from dataframe to numpy array\n",
    "# y should be a numpy array of shape (m,), use .values to convert from dataframe to numpy array\n",
    "X = data.drop(['salary'], axis=1).values\n",
    "Y = data.drop(['gpa', 'years_of_experience'], axis=1).values"
   ]
  },
  {
   "cell_type": "code",
   "execution_count": 62,
   "metadata": {},
   "outputs": [
    {
     "name": "stdout",
     "output_type": "stream",
     "text": [
      "m = 25 \n",
      "n = 2\n"
     ]
    }
   ],
   "source": [
    "# extract m and n from X using X.shape[0] to get m and X.shape[1] to get n\n",
    "print('m =', X.shape[0], '\\nn =', X.shape[1])"
   ]
  },
  {
   "cell_type": "code",
   "execution_count": 64,
   "metadata": {},
   "outputs": [
    {
     "data": {
      "text/plain": [
       "(25, 1)"
      ]
     },
     "execution_count": 64,
     "metadata": {},
     "output_type": "execute_result"
    }
   ],
   "source": [
    "# y should be a numpy array of shape (m, 1), use reshape(m, 1) to reshape y from (m,) to (m, 1)\n",
    "Y.reshape(Y.size, 1)\n",
    "Y.shape"
   ]
  },
  {
   "cell_type": "code",
   "execution_count": 66,
   "metadata": {},
   "outputs": [
    {
     "data": {
      "text/plain": [
       "array([[0.3125 , 0.     ],\n",
       "       [0.625  , 0.125  ],\n",
       "       [0.15625, 0.125  ],\n",
       "       [0.3125 , 0.1875 ],\n",
       "       [0.15625, 0.2125 ],\n",
       "       [0.625  , 0.25   ],\n",
       "       [0.9375 , 0.25   ],\n",
       "       [1.     , 0.275  ],\n",
       "       [0.     , 0.3125 ],\n",
       "       [0.3125 , 0.3375 ],\n",
       "       [0.5    , 0.375  ],\n",
       "       [0.78125, 0.4375 ],\n",
       "       [0.625  , 0.5    ],\n",
       "       [0.     , 0.5625 ],\n",
       "       [0.125  , 0.6    ],\n",
       "       [0.     , 0.625  ],\n",
       "       [0.84375, 0.625  ],\n",
       "       [0.9375 , 0.6875 ],\n",
       "       [0.46875, 0.75   ],\n",
       "       [0.625  , 0.75   ],\n",
       "       [0.46875, 0.8125 ],\n",
       "       [0.3125 , 0.875  ],\n",
       "       [0.625  , 0.9375 ],\n",
       "       [0.9375 , 0.9625 ],\n",
       "       [0.78125, 1.     ]])"
      ]
     },
     "execution_count": 66,
     "metadata": {},
     "output_type": "execute_result"
    }
   ],
   "source": [
    "# normalize X using min-max scaler (sklearn.preprocessing.MinMaxScaler)\n",
    "scaler = sklearn.preprocessing.MinMaxScaler()\n",
    "\n",
    "X = scaler.fit_transform(X)\n",
    "X"
   ]
  },
  {
   "cell_type": "code",
   "execution_count": 67,
   "metadata": {},
   "outputs": [
    {
     "data": {
      "text/plain": [
       "array([[1.     , 0.3125 , 0.     ],\n",
       "       [1.     , 0.625  , 0.125  ],\n",
       "       [1.     , 0.15625, 0.125  ],\n",
       "       [1.     , 0.3125 , 0.1875 ],\n",
       "       [1.     , 0.15625, 0.2125 ],\n",
       "       [1.     , 0.625  , 0.25   ],\n",
       "       [1.     , 0.9375 , 0.25   ],\n",
       "       [1.     , 1.     , 0.275  ],\n",
       "       [1.     , 0.     , 0.3125 ],\n",
       "       [1.     , 0.3125 , 0.3375 ],\n",
       "       [1.     , 0.5    , 0.375  ],\n",
       "       [1.     , 0.78125, 0.4375 ],\n",
       "       [1.     , 0.625  , 0.5    ],\n",
       "       [1.     , 0.     , 0.5625 ],\n",
       "       [1.     , 0.125  , 0.6    ],\n",
       "       [1.     , 0.     , 0.625  ],\n",
       "       [1.     , 0.84375, 0.625  ],\n",
       "       [1.     , 0.9375 , 0.6875 ],\n",
       "       [1.     , 0.46875, 0.75   ],\n",
       "       [1.     , 0.625  , 0.75   ],\n",
       "       [1.     , 0.46875, 0.8125 ],\n",
       "       [1.     , 0.3125 , 0.875  ],\n",
       "       [1.     , 0.625  , 0.9375 ],\n",
       "       [1.     , 0.9375 , 0.9625 ],\n",
       "       [1.     , 0.78125, 1.     ]])"
      ]
     },
     "execution_count": 67,
     "metadata": {},
     "output_type": "execute_result"
    }
   ],
   "source": [
    "# add dummy feature to X using scikit-learn dummy feature (sklearn.preprocessing.add_dummy_feature)\n",
    "X = sklearn.preprocessing.add_dummy_feature(X)\n",
    "X"
   ]
  },
  {
   "cell_type": "code",
   "execution_count": 68,
   "metadata": {},
   "outputs": [
    {
     "name": "stdout",
     "output_type": "stream",
     "text": [
      "Y.shape = (25, 1)\n",
      "X.shape = (25, 3)\n"
     ]
    }
   ],
   "source": [
    "# print shapes of X and y\n",
    "# X should be (m, n+1) and y should be (m, 1)\n",
    "print('Y.shape =', Y.shape)\n",
    "print('X.shape =', X.shape)"
   ]
  },
  {
   "cell_type": "code",
   "execution_count": 121,
   "metadata": {},
   "outputs": [
    {
     "data": {
      "image/png": "[encoded data removed]",
      "text/plain": [
       "<Figure size 640x480 with 1 Axes>"
      ]
     },
     "metadata": {},
     "output_type": "display_data"
    },
    {
     "name": "stdout",
     "output_type": "stream",
     "text": [
      "Final Theta: [[36.85414672]\n",
      " [19.29506171]\n",
      " [21.06864646]]\n"
     ]
    }
   ],
   "source": [
    "eta = 0.1 # learning rate\n",
    "n_epochs = 10\n",
    "np.random.seed(42) # set random seed to 42 for reproducibility\n",
    "\n",
    "# create theta, of shape (n+1, 1) and initialize it to random values using np.random.randn\n",
    "theta = np.random.rand(3, 1)\n",
    "\n",
    "\n",
    "E = [] # list to store errors at each epoch\n",
    "# compute error for initial theta and append to E\n",
    "error = sklearn.metrics.mean_squared_error(Y, np.dot(X, theta), squared=False)\n",
    "E.append(error)\n",
    "\n",
    "# loop over n_epochs\n",
    "# for each epoch: compute gradients, update theta, compute error, append error to E\n",
    "for epoch in range(n_epochs):\n",
    "    # compute gradients\n",
    "\n",
    "    gradients = np.dot(X.T, (np.dot(X, theta) - Y)) / len(Y)\n",
    "\n",
    "    # update theta using the gradients and learning rate\n",
    "    theta = theta - eta * gradients\n",
    "\n",
    "    # compute error and append to E\n",
    "    error = sklearn.metrics.mean_squared_error(Y, np.dot(X, theta), squared=False)\n",
    "    E.append(error)\n",
    "\n",
    "# plot error vs epoch\n",
    "plt.plot(range(n_epochs + 1), E, marker='o')\n",
    "plt.xlabel('Epoch')\n",
    "plt.ylabel('Root Mean Squared Error')\n",
    "plt.title('Error vs Epoch')\n",
    "plt.show()\n",
    "\n",
    "# print final theta\n",
    "print(\"Final Theta:\", theta)"
   ]
  },
  {
   "cell_type": "code",
   "execution_count": 135,
   "metadata": {},
   "outputs": [
    {
     "name": "stdout",
     "output_type": "stream",
     "text": [
      "predicted salary = 48.15101511308938\n"
     ]
    }
   ],
   "source": [
    "# let's predict the salary for a person who has gpa=70 and years_of_experience=3. \n",
    "# create a numpy array x of shape (1, 2) with these values\n",
    "# scale features using the same scaler we used earlier\n",
    "# insert dummy feature using dummy feature function\n",
    "# Predict salary of x\n",
    "x = np.array([[70,3]])\n",
    "x = scaler.transform(x)\n",
    "\n",
    "x = sklearn.preprocessing.add_dummy_feature(x)\n",
    "\n",
    "print('predicted salary using our model =', np.dot(x, theta)[0][0])"
   ]
  },
  {
   "cell_type": "code",
   "execution_count": 142,
   "metadata": {},
   "outputs": [
    {
     "data": {
      "text/plain": [
       "SGDRegressor(eta0=0.1, random_state=42)"
      ]
     },
     "execution_count": 142,
     "metadata": {},
     "output_type": "execute_result"
    }
   ],
   "source": [
    "# Let's compare with scikit-learn's SGDRegressor\n",
    "# use SGDRegressor from scikit-learn to fit the data\n",
    "# use max_iter=1000, eta0=0.1, random_state=42\n",
    "\n",
    "sgd_reg = sklearn.linear_model.SGDRegressor(max_iter=1000, eta0=0.1, random_state=42)\n",
    "sgd_reg.fit(X, Y)"
   ]
  },
  {
   "cell_type": "code",
   "execution_count": 143,
   "metadata": {},
   "outputs": [
    {
     "name": "stdout",
     "output_type": "stream",
     "text": [
      "predicted salary using SGDRegressor = 59.444338469177936\n"
     ]
    }
   ],
   "source": [
    "# predict salary of x using sgd\n",
    "print('predicted salary using SGDRegressor =', sgd_reg.predict(x)[0])"
   ]
  },
  {
   "cell_type": "code",
   "execution_count": 152,
   "metadata": {},
   "outputs": [
    {
     "name": "stdout",
     "output_type": "stream",
     "text": [
      "predicted salary using SGDRegressor and Polynomial Features = 60.056903205155535\n"
     ]
    }
   ],
   "source": [
    "# create polynomial features of degree 2 using scikit-learn PolynomialFeatures\n",
    "# create X_poly using fit_transform\n",
    "# create x_poly using transform\n",
    "# fit the data using SGDRegressor\n",
    "# predict salary of x using sgd\n",
    "\n",
    "poly = sklearn.preprocessing.PolynomialFeatures(2)\n",
    "\n",
    "X_poly = poly.fit_transform(X)\n",
    "x_poly = poly.fit_transform(x)\n",
    "\n",
    "sgd_reg.fit(X_poly, Y)\n",
    "\n",
    "print('predicted salary using SGDRegressor and Polynomial Features =', sgd_reg.predict(x_poly)[0])"
   ]
  }
 ],
 "metadata": {
  "kernelspec": {
   "display_name": "Python 3",
   "language": "python",
   "name": "python3"
  },
  "language_info": {
   "codemirror_mode": {
    "name": "ipython",
    "version": 3
   },
   "file_extension": ".py",
   "mimetype": "text/x-python",
   "name": "python",
   "nbconvert_exporter": "python",
   "pygments_lexer": "ipython3",
   "version": "3.9.13"
  }
 },
 "nbformat": 4,
 "nbformat_minor": 2
}
