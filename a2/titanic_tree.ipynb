{
 "cells": [
  {
   "cell_type": "code",
   "execution_count": 83,
   "metadata": {},
   "outputs": [
    {
     "name": "stdout",
     "output_type": "stream",
     "text": [
      "   id pclass    age   sex survived\n",
      "0   1    1st  adult  male      yes\n",
      "1   2    1st  adult  male      yes\n",
      "2   3    1st  adult  male      yes\n",
      "3   4    1st  adult  male      yes\n",
      "4   5    1st  adult  male      yes\n"
     ]
    }
   ],
   "source": [
    "#import the titanic.csv file in order to make a decision tree\n",
    "\n",
    "import pandas as pd\n",
    "import numpy as np\n",
    "import matplotlib.pyplot as plt\n",
    "import seaborn as sns\n",
    "import re\n",
    "from sklearn.model_selection import train_test_split\n",
    "from sklearn.linear_model import LogisticRegression\n",
    "from sklearn.metrics import classification_report, confusion_matrix\n",
    "from sklearn.tree import DecisionTreeClassifier\n",
    "from sklearn.ensemble import RandomForestClassifier\n",
    "\n",
    "\n",
    "#load the data\n",
    "titanic = pd.read_csv('titanic.csv')\n",
    "\n",
    "#check the head of the data\n",
    "print(titanic.head())"
   ]
  },
  {
   "cell_type": "code",
   "execution_count": 84,
   "metadata": {},
   "outputs": [
    {
     "name": "stdout",
     "output_type": "stream",
     "text": [
      "survived\n",
      "no     1490\n",
      "yes     711\n",
      "Name: count, dtype: int64\n",
      "\n",
      "pclass\n",
      "crew    885\n",
      "3rd     706\n",
      "1st     325\n",
      "2nd     285\n",
      "Name: count, dtype: int64\n",
      "\n",
      "age\n",
      "adult    2092\n",
      "child     109\n",
      "Name: count, dtype: int64\n",
      "\n",
      "sex\n",
      "male      1731\n",
      "female     470\n",
      "Name: count, dtype: int64\n"
     ]
    }
   ],
   "source": [
    "#for each attribute, count the number of each possible value\n",
    "\n",
    "print(titanic['survived'].value_counts())\n",
    "print()\n",
    "print(titanic['pclass'].value_counts())\n",
    "print()\n",
    "print(titanic['age'].value_counts())\n",
    "print()\n",
    "print(titanic['sex'].value_counts())"
   ]
  },
  {
   "cell_type": "code",
   "execution_count": 90,
   "metadata": {},
   "outputs": [],
   "source": [
    "#compute the entropy after splitting the data according to each attribute\n",
    "#for a decision tree intended to determine whether they survived or not\n",
    "\n",
    "#compute the entropy of the target attribute\n",
    "#input is an array of tuples, where each tuple contains the number of survivors and non-survivors\n",
    "#based on the splits of the data on the attribute\n",
    "def info_func(p_tuples):\n",
    "    total = 0\n",
    "    for tuple in p_tuples:\n",
    "        total += sum(tuple) \n",
    "\n",
    "    info = 0\n",
    "    entropy = 0\n",
    "\n",
    "    for tuple in p_tuples:\n",
    "        for val in tuple:\n",
    "            p = val/sum(tuple)\n",
    "\n",
    "            if 0 in tuple:\n",
    "                entropy = 0\n",
    "                continue\n",
    "            else:\n",
    "                entropy -= p*np.log2(p)\n",
    "        \n",
    "        info += (sum(tuple)/total)*entropy\n",
    "        entropy = 0\n",
    "\n",
    "    return info"
   ]
  },
  {
   "cell_type": "code",
   "execution_count": 86,
   "metadata": {},
   "outputs": [
    {
     "name": "stdout",
     "output_type": "stream",
     "text": [
      "pclass  survived\n",
      "crew    no          673\n",
      "3rd     no          528\n",
      "crew    yes         212\n",
      "1st     yes         203\n",
      "3rd     yes         178\n",
      "2nd     no          167\n",
      "1st     no          122\n",
      "2nd     yes         118\n",
      "Name: count, dtype: int64 \n",
      "\n",
      "Entropy after pclass split:\n",
      "0.8483634692722222 \n",
      "\n"
     ]
    }
   ],
   "source": [
    "#compute info on pclass:\n",
    "counts = titanic[['pclass', 'survived']].value_counts()\n",
    "print(counts, '\\n')\n",
    "\n",
    "print('Entropy after pclass split:')\n",
    "print(info_func([[counts['crew']['yes'], counts['crew']['no']],\n",
    "                 [counts['1st']['yes'], counts['1st']['no']],\n",
    "                 [counts['2nd']['yes'], counts['2nd']['no']],\n",
    "                 [counts['3rd']['yes'], counts['3rd']['no']]]), '\\n')"
   ]
  },
  {
   "cell_type": "code",
   "execution_count": 87,
   "metadata": {},
   "outputs": [
    {
     "name": "stdout",
     "output_type": "stream",
     "text": [
      "age    survived\n",
      "adult  no          1438\n",
      "       yes          654\n",
      "child  yes           57\n",
      "       no            52\n",
      "Name: count, dtype: int64 \n",
      "\n",
      "Entropy after age split:\n",
      "0.9012406875470709 \n",
      "\n"
     ]
    }
   ],
   "source": [
    "#compute info on age\n",
    "\n",
    "counts = titanic[['age', 'survived']].value_counts()\n",
    "print(counts, '\\n')\n",
    "\n",
    "print('Entropy after age split:')\n",
    "print(info_func([[counts['adult']['yes'], counts['adult']['no']],\n",
    "                 [counts['child']['yes'], counts['child']['no']]]), '\\n')"
   ]
  },
  {
   "cell_type": "code",
   "execution_count": 88,
   "metadata": {},
   "outputs": [
    {
     "name": "stdout",
     "output_type": "stream",
     "text": [
      "sex     survived\n",
      "male    no          1364\n",
      "        yes          367\n",
      "female  yes          344\n",
      "        no           126\n",
      "Name: count, dtype: int64 \n",
      "\n",
      "Entropy after sex split:\n",
      "0.7652602113304224 \n",
      "\n"
     ]
    }
   ],
   "source": [
    "#compute info on sex\n",
    "counts = titanic[['sex', 'survived']].value_counts()\n",
    "print(counts, '\\n')\n",
    "\n",
    "print('Entropy after sex split:')\n",
    "print(info_func([[counts['male']['yes'], counts['male']['no']],\n",
    "                 [counts['female']['yes'], counts['female']['no']]]), '\\n')\n"
   ]
  },
  {
   "cell_type": "markdown",
   "metadata": {},
   "source": [
    "As seen above, the lowest info score was from the 'sex' attribute, and so that will be the first split performed:"
   ]
  },
  {
   "cell_type": "markdown",
   "metadata": {},
   "source": [
    "titanic_male = titanic['male]"
   ]
  },
  {
   "cell_type": "code",
   "execution_count": 96,
   "metadata": {},
   "outputs": [],
   "source": [
    "titanic_male = titanic[titanic['sex'] == 'male']\n",
    "titanic_female = titanic[titanic['sex'] == 'female']"
   ]
  },
  {
   "cell_type": "code",
   "execution_count": 101,
   "metadata": {},
   "outputs": [
    {
     "name": "stdout",
     "output_type": "stream",
     "text": [
      "Entropy on sex==male after pclass split:\n",
      "0.7334350137077876 \n",
      "\n",
      "Entropy on sex==male after age split:\n",
      "0.7372563536552104 \n",
      "\n"
     ]
    }
   ],
   "source": [
    "# after split to male, which attribute is next best:\n",
    "counts = titanic_male[['pclass', 'survived']].value_counts()\n",
    "\n",
    "print('Entropy on sex==male after pclass split:')\n",
    "print(info_func([[counts['crew']['yes'], counts['crew']['no']],\n",
    "                 [counts['1st']['yes'], counts['1st']['no']],\n",
    "                 [counts['2nd']['yes'], counts['2nd']['no']],\n",
    "                 [counts['3rd']['yes'], counts['3rd']['no']]]), '\\n')\n",
    "\n",
    "counts = titanic_male[['age', 'survived']].value_counts()\n",
    "\n",
    "print('Entropy on sex==male after age split:')\n",
    "print(info_func([[counts['adult']['yes'], counts['adult']['no']],\n",
    "                 [counts['child']['yes'], counts['child']['no']]]), '\\n')"
   ]
  },
  {
   "cell_type": "markdown",
   "metadata": {},
   "source": [
    "Therefore the next best attribute to split on when sex==male is pclass, which narrowly beats the age attribute"
   ]
  },
  {
   "cell_type": "code",
   "execution_count": 103,
   "metadata": {},
   "outputs": [
    {
     "name": "stdout",
     "output_type": "stream",
     "text": [
      "Entropy on sex==female after pclass split:\n",
      "0.6196328041731174 \n",
      "\n",
      "Entropy on sex==female after age split:\n",
      "0.8343071565467435 \n",
      "\n"
     ]
    }
   ],
   "source": [
    "# after split to female, which attribute is next best:\n",
    "counts = titanic_female[['pclass', 'survived']].value_counts()\n",
    "\n",
    "print('Entropy on sex==female after pclass split:')\n",
    "print(info_func([[counts['crew']['yes'], counts['crew']['no']],\n",
    "                 [counts['1st']['yes'], counts['1st']['no']],\n",
    "                 [counts['2nd']['yes'], counts['2nd']['no']],\n",
    "                 [counts['3rd']['yes'], counts['3rd']['no']]]), '\\n')\n",
    "\n",
    "counts = titanic_female[['age', 'survived']].value_counts()\n",
    "\n",
    "print('Entropy on sex==female after age split:')\n",
    "print(info_func([[counts['adult']['yes'], counts['adult']['no']],\n",
    "                 [counts['child']['yes'], counts['child']['no']]]), '\\n')"
   ]
  },
  {
   "cell_type": "markdown",
   "metadata": {},
   "source": [
    "Therefore the next best attribute to split on when sex==female is pclass, which beats the age attribute by a fair margin\n",
    "\n",
    "Therefore the tree will look like the following, with words in [] being nodes, and words without being the edges\n",
    "\n",
    "                            ['sex']\n",
    "                           /       \\\n",
    "                        female      male\n",
    "                         /            \\\n",
    "                   ['pclass']       ['pclass']"
   ]
  }
 ],
 "metadata": {
  "kernelspec": {
   "display_name": "data_mining",
   "language": "python",
   "name": "python3"
  },
  "language_info": {
   "codemirror_mode": {
    "name": "ipython",
    "version": 3
   },
   "file_extension": ".py",
   "mimetype": "text/x-python",
   "name": "python",
   "nbconvert_exporter": "python",
   "pygments_lexer": "ipython3",
   "version": "3.12.0"
  }
 },
 "nbformat": 4,
 "nbformat_minor": 2
}
