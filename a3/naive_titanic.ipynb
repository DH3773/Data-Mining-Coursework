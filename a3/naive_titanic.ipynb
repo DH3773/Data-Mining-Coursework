{
 "cells": [
  {
   "cell_type": "code",
   "execution_count": 7,
   "metadata": {},
   "outputs": [],
   "source": [
    "import pandas as pd\n",
    "import matplotlib.pyplot as plt\n",
    "from sklearn.naive_bayes import GaussianNB\n",
    "from sklearn.preprocessing import OneHotEncoder"
   ]
  },
  {
   "cell_type": "code",
   "execution_count": 2,
   "metadata": {},
   "outputs": [
    {
     "name": "stdout",
     "output_type": "stream",
     "text": [
      "   id pclass    age   sex survived\n",
      "0   1    1st  adult  male      yes\n",
      "1   2    1st  adult  male      yes\n",
      "2   3    1st  adult  male      yes\n",
      "3   4    1st  adult  male      yes\n",
      "4   5    1st  adult  male      yes\n"
     ]
    }
   ],
   "source": [
    "#load the data\n",
    "titanic = pd.read_csv('titanic.csv')\n",
    "\n",
    "#check the head of the data\n",
    "print(titanic.head())"
   ]
  },
  {
   "cell_type": "code",
   "execution_count": 22,
   "metadata": {},
   "outputs": [
    {
     "name": "stdout",
     "output_type": "stream",
     "text": [
      "survived\n",
      "no     1490\n",
      "yes     711\n",
      "Name: count, dtype: int64\n",
      "\n",
      "pclass\n",
      "crew    885\n",
      "3rd     706\n",
      "1st     325\n",
      "2nd     285\n",
      "Name: count, dtype: int64\n",
      "\n",
      "age\n",
      "adult    2092\n",
      "child     109\n",
      "Name: count, dtype: int64\n",
      "\n",
      "sex\n",
      "male      1731\n",
      "female     470\n",
      "Name: count, dtype: int64\n",
      "\n",
      "0\n"
     ]
    }
   ],
   "source": [
    "print(titanic['survived'].value_counts())\n",
    "print()\n",
    "print(titanic['pclass'].value_counts())\n",
    "print()\n",
    "print(titanic['age'].value_counts())\n",
    "print()\n",
    "print(titanic['sex'].value_counts())"
   ]
  },
  {
   "cell_type": "code",
   "execution_count": 33,
   "metadata": {},
   "outputs": [
    {
     "name": "stdout",
     "output_type": "stream",
     "text": [
      "167\n",
      "1438\n",
      "126\n",
      "1490\n",
      "2201\n"
     ]
    }
   ],
   "source": [
    "print(titanic[(titanic['pclass'] == \"2nd\") & (titanic['survived'] == \"no\")].shape[0])\n",
    "print(titanic[(titanic['age'] == \"adult\") & (titanic['survived'] == \"no\")].shape[0])\n",
    "print(titanic[(titanic['sex'] == \"female\") & (titanic['survived'] == \"no\")].shape[0])\n",
    "\n",
    "print(titanic[(titanic['survived'] == \"no\")].shape[0])\n",
    "print(titanic.shape[0])"
   ]
  }
 ],
 "metadata": {
  "kernelspec": {
   "display_name": "data_mining",
   "language": "python",
   "name": "python3"
  },
  "language_info": {
   "codemirror_mode": {
    "name": "ipython",
    "version": 3
   },
   "file_extension": ".py",
   "mimetype": "text/x-python",
   "name": "python",
   "nbconvert_exporter": "python",
   "pygments_lexer": "ipython3",
   "version": "3.12.0"
  }
 },
 "nbformat": 4,
 "nbformat_minor": 2
}
