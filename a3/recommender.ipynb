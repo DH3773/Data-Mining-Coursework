{
 "cells": [
  {
   "cell_type": "code",
   "execution_count": 1,
   "metadata": {},
   "outputs": [],
   "source": [
    "import numpy as np\n",
    "\n"
   ]
  },
  {
   "cell_type": "code",
   "execution_count": 10,
   "metadata": {},
   "outputs": [
    {
     "name": "stdout",
     "output_type": "stream",
     "text": [
      "LR:  0.9233805168766388\n",
      "ML:  -0.2581988897471611\n",
      "T:  -0.9999999999999999\n",
      "GS:  0.20459830184114206\n",
      "CP:  1.0\n",
      "JM:  0.1348399724926484\n"
     ]
    }
   ],
   "source": [
    "#Pearson Similarity Calculations\n",
    "MP4 = np.array([2.5, 3.0, 3.5, 4.0])\n",
    "LR = np.array([2.5, 3.5, 3.5, 4.0])\n",
    "ML = np.array([3.0, 4.0, 3.0, 3.0])\n",
    "GS = np.array([3.0, 3.5, 5.0, 3.0])\n",
    "JM = np.array([3.0, 4.0, 5.0, 3.0])\n",
    "\n",
    "MP3 = np.array([3.0, 3.5, 4.0])\n",
    "CP = np.array([3.5, 4.0, 4.5])\n",
    "\n",
    "MP2 = np.array([3.0, 3.5])\n",
    "T = np.array([4.5, 4.0])\n",
    "\n",
    "def pearson(x, y):\n",
    "    return np.corrcoef(x, y)[0, 1]\n",
    "\n",
    "print('LR: ', pearson(MP4, LR))\n",
    "print('ML: ', pearson(MP4, ML))\n",
    "print('T: ', pearson(MP2, T))\n",
    "print('GS: ', pearson(MP4, GS))\n",
    "print('CP: ', pearson(MP3, CP))\n",
    "print('JM: ', pearson(MP4, JM))"
   ]
  },
  {
   "cell_type": "code",
   "execution_count": null,
   "metadata": {},
   "outputs": [],
   "source": []
  }
 ],
 "metadata": {
  "kernelspec": {
   "display_name": "data_mining",
   "language": "python",
   "name": "python3"
  },
  "language_info": {
   "codemirror_mode": {
    "name": "ipython",
    "version": 3
   },
   "file_extension": ".py",
   "mimetype": "text/x-python",
   "name": "python",
   "nbconvert_exporter": "python",
   "pygments_lexer": "ipython3",
   "version": "3.12.0"
  }
 },
 "nbformat": 4,
 "nbformat_minor": 2
}
